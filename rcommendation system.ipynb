{
 "cells": [
  {
   "cell_type": "code",
   "execution_count": 1,
   "id": "a5bbe624",
   "metadata": {},
   "outputs": [],
   "source": [
    "import pandas as pd\n",
    "import numpy as np\n",
    "import matplotlib.pyplot as plt\n",
    "import seaborn as sns\n",
    "%matplotlib inline"
   ]
  },
  {
   "cell_type": "code",
   "execution_count": 53,
   "id": "61aa016b",
   "metadata": {},
   "outputs": [],
   "source": [
    "import warnings\n",
    "warnings.filterwarnings(\"ignore\")"
   ]
  },
  {
   "cell_type": "code",
   "execution_count": 2,
   "id": "8b901ae3",
   "metadata": {},
   "outputs": [],
   "source": [
    "data=pd.read_csv('zomato_banglore.csv')"
   ]
  },
  {
   "cell_type": "code",
   "execution_count": 3,
   "id": "b1d61acf",
   "metadata": {},
   "outputs": [
    {
     "data": {
      "text/html": [
       "<div>\n",
       "<style scoped>\n",
       "    .dataframe tbody tr th:only-of-type {\n",
       "        vertical-align: middle;\n",
       "    }\n",
       "\n",
       "    .dataframe tbody tr th {\n",
       "        vertical-align: top;\n",
       "    }\n",
       "\n",
       "    .dataframe thead th {\n",
       "        text-align: right;\n",
       "    }\n",
       "</style>\n",
       "<table border=\"1\" class=\"dataframe\">\n",
       "  <thead>\n",
       "    <tr style=\"text-align: right;\">\n",
       "      <th></th>\n",
       "      <th>url</th>\n",
       "      <th>address</th>\n",
       "      <th>name</th>\n",
       "      <th>online_order</th>\n",
       "      <th>book_table</th>\n",
       "      <th>rate</th>\n",
       "      <th>votes</th>\n",
       "      <th>phone</th>\n",
       "      <th>location</th>\n",
       "      <th>rest_type</th>\n",
       "      <th>dish_liked</th>\n",
       "      <th>cuisines</th>\n",
       "      <th>approx_cost(for two people)</th>\n",
       "      <th>reviews_list</th>\n",
       "      <th>menu_item</th>\n",
       "      <th>listed_in(type)</th>\n",
       "      <th>listed_in(city)</th>\n",
       "    </tr>\n",
       "  </thead>\n",
       "  <tbody>\n",
       "    <tr>\n",
       "      <th>0</th>\n",
       "      <td>https://www.zomato.com/bangalore/jalsa-banasha...</td>\n",
       "      <td>942, 21st Main Road, 2nd Stage, Banashankari, ...</td>\n",
       "      <td>Jalsa</td>\n",
       "      <td>Yes</td>\n",
       "      <td>Yes</td>\n",
       "      <td>4.1/5</td>\n",
       "      <td>775</td>\n",
       "      <td>080 42297555\\r\\n+91 9743772233</td>\n",
       "      <td>Banashankari</td>\n",
       "      <td>Casual Dining</td>\n",
       "      <td>Pasta, Lunch Buffet, Masala Papad, Paneer Laja...</td>\n",
       "      <td>North Indian, Mughlai, Chinese</td>\n",
       "      <td>800</td>\n",
       "      <td>[('Rated 4.0', 'RATED\\n  A beautiful place to ...</td>\n",
       "      <td>[]</td>\n",
       "      <td>Buffet</td>\n",
       "      <td>Banashankari</td>\n",
       "    </tr>\n",
       "    <tr>\n",
       "      <th>1</th>\n",
       "      <td>https://www.zomato.com/bangalore/spice-elephan...</td>\n",
       "      <td>2nd Floor, 80 Feet Road, Near Big Bazaar, 6th ...</td>\n",
       "      <td>Spice Elephant</td>\n",
       "      <td>Yes</td>\n",
       "      <td>No</td>\n",
       "      <td>4.1/5</td>\n",
       "      <td>787</td>\n",
       "      <td>080 41714161</td>\n",
       "      <td>Banashankari</td>\n",
       "      <td>Casual Dining</td>\n",
       "      <td>Momos, Lunch Buffet, Chocolate Nirvana, Thai G...</td>\n",
       "      <td>Chinese, North Indian, Thai</td>\n",
       "      <td>800</td>\n",
       "      <td>[('Rated 4.0', 'RATED\\n  Had been here for din...</td>\n",
       "      <td>[]</td>\n",
       "      <td>Buffet</td>\n",
       "      <td>Banashankari</td>\n",
       "    </tr>\n",
       "    <tr>\n",
       "      <th>2</th>\n",
       "      <td>https://www.zomato.com/SanchurroBangalore?cont...</td>\n",
       "      <td>1112, Next to KIMS Medical College, 17th Cross...</td>\n",
       "      <td>San Churro Cafe</td>\n",
       "      <td>Yes</td>\n",
       "      <td>No</td>\n",
       "      <td>3.8/5</td>\n",
       "      <td>918</td>\n",
       "      <td>+91 9663487993</td>\n",
       "      <td>Banashankari</td>\n",
       "      <td>Cafe, Casual Dining</td>\n",
       "      <td>Churros, Cannelloni, Minestrone Soup, Hot Choc...</td>\n",
       "      <td>Cafe, Mexican, Italian</td>\n",
       "      <td>800</td>\n",
       "      <td>[('Rated 3.0', \"RATED\\n  Ambience is not that ...</td>\n",
       "      <td>[]</td>\n",
       "      <td>Buffet</td>\n",
       "      <td>Banashankari</td>\n",
       "    </tr>\n",
       "    <tr>\n",
       "      <th>3</th>\n",
       "      <td>https://www.zomato.com/bangalore/addhuri-udupi...</td>\n",
       "      <td>1st Floor, Annakuteera, 3rd Stage, Banashankar...</td>\n",
       "      <td>Addhuri Udupi Bhojana</td>\n",
       "      <td>No</td>\n",
       "      <td>No</td>\n",
       "      <td>3.7/5</td>\n",
       "      <td>88</td>\n",
       "      <td>+91 9620009302</td>\n",
       "      <td>Banashankari</td>\n",
       "      <td>Quick Bites</td>\n",
       "      <td>Masala Dosa</td>\n",
       "      <td>South Indian, North Indian</td>\n",
       "      <td>300</td>\n",
       "      <td>[('Rated 4.0', \"RATED\\n  Great food and proper...</td>\n",
       "      <td>[]</td>\n",
       "      <td>Buffet</td>\n",
       "      <td>Banashankari</td>\n",
       "    </tr>\n",
       "    <tr>\n",
       "      <th>4</th>\n",
       "      <td>https://www.zomato.com/bangalore/grand-village...</td>\n",
       "      <td>10, 3rd Floor, Lakshmi Associates, Gandhi Baza...</td>\n",
       "      <td>Grand Village</td>\n",
       "      <td>No</td>\n",
       "      <td>No</td>\n",
       "      <td>3.8/5</td>\n",
       "      <td>166</td>\n",
       "      <td>+91 8026612447\\r\\n+91 9901210005</td>\n",
       "      <td>Basavanagudi</td>\n",
       "      <td>Casual Dining</td>\n",
       "      <td>Panipuri, Gol Gappe</td>\n",
       "      <td>North Indian, Rajasthani</td>\n",
       "      <td>600</td>\n",
       "      <td>[('Rated 4.0', 'RATED\\n  Very good restaurant ...</td>\n",
       "      <td>[]</td>\n",
       "      <td>Buffet</td>\n",
       "      <td>Banashankari</td>\n",
       "    </tr>\n",
       "  </tbody>\n",
       "</table>\n",
       "</div>"
      ],
      "text/plain": [
       "                                                 url  \\\n",
       "0  https://www.zomato.com/bangalore/jalsa-banasha...   \n",
       "1  https://www.zomato.com/bangalore/spice-elephan...   \n",
       "2  https://www.zomato.com/SanchurroBangalore?cont...   \n",
       "3  https://www.zomato.com/bangalore/addhuri-udupi...   \n",
       "4  https://www.zomato.com/bangalore/grand-village...   \n",
       "\n",
       "                                             address                   name  \\\n",
       "0  942, 21st Main Road, 2nd Stage, Banashankari, ...                  Jalsa   \n",
       "1  2nd Floor, 80 Feet Road, Near Big Bazaar, 6th ...         Spice Elephant   \n",
       "2  1112, Next to KIMS Medical College, 17th Cross...        San Churro Cafe   \n",
       "3  1st Floor, Annakuteera, 3rd Stage, Banashankar...  Addhuri Udupi Bhojana   \n",
       "4  10, 3rd Floor, Lakshmi Associates, Gandhi Baza...          Grand Village   \n",
       "\n",
       "  online_order book_table   rate  votes                             phone  \\\n",
       "0          Yes        Yes  4.1/5    775    080 42297555\\r\\n+91 9743772233   \n",
       "1          Yes         No  4.1/5    787                      080 41714161   \n",
       "2          Yes         No  3.8/5    918                    +91 9663487993   \n",
       "3           No         No  3.7/5     88                    +91 9620009302   \n",
       "4           No         No  3.8/5    166  +91 8026612447\\r\\n+91 9901210005   \n",
       "\n",
       "       location            rest_type  \\\n",
       "0  Banashankari        Casual Dining   \n",
       "1  Banashankari        Casual Dining   \n",
       "2  Banashankari  Cafe, Casual Dining   \n",
       "3  Banashankari          Quick Bites   \n",
       "4  Basavanagudi        Casual Dining   \n",
       "\n",
       "                                          dish_liked  \\\n",
       "0  Pasta, Lunch Buffet, Masala Papad, Paneer Laja...   \n",
       "1  Momos, Lunch Buffet, Chocolate Nirvana, Thai G...   \n",
       "2  Churros, Cannelloni, Minestrone Soup, Hot Choc...   \n",
       "3                                        Masala Dosa   \n",
       "4                                Panipuri, Gol Gappe   \n",
       "\n",
       "                         cuisines approx_cost(for two people)  \\\n",
       "0  North Indian, Mughlai, Chinese                         800   \n",
       "1     Chinese, North Indian, Thai                         800   \n",
       "2          Cafe, Mexican, Italian                         800   \n",
       "3      South Indian, North Indian                         300   \n",
       "4        North Indian, Rajasthani                         600   \n",
       "\n",
       "                                        reviews_list menu_item  \\\n",
       "0  [('Rated 4.0', 'RATED\\n  A beautiful place to ...        []   \n",
       "1  [('Rated 4.0', 'RATED\\n  Had been here for din...        []   \n",
       "2  [('Rated 3.0', \"RATED\\n  Ambience is not that ...        []   \n",
       "3  [('Rated 4.0', \"RATED\\n  Great food and proper...        []   \n",
       "4  [('Rated 4.0', 'RATED\\n  Very good restaurant ...        []   \n",
       "\n",
       "  listed_in(type) listed_in(city)  \n",
       "0          Buffet    Banashankari  \n",
       "1          Buffet    Banashankari  \n",
       "2          Buffet    Banashankari  \n",
       "3          Buffet    Banashankari  \n",
       "4          Buffet    Banashankari  "
      ]
     },
     "execution_count": 3,
     "metadata": {},
     "output_type": "execute_result"
    }
   ],
   "source": [
    "data.head()"
   ]
  },
  {
   "cell_type": "code",
   "execution_count": 4,
   "id": "56dfc18f",
   "metadata": {},
   "outputs": [],
   "source": [
    "#remove columns\n",
    "copy=data.drop(['url','online_order', 'book_table','phone','dish_liked','votes','menu_item'],axis=1)"
   ]
  },
  {
   "cell_type": "code",
   "execution_count": 5,
   "id": "291b2a9c",
   "metadata": {},
   "outputs": [],
   "source": [
    "#changing column names \n",
    "copy.rename(columns={'listed_in(type)':'Type','listed_in(city)':'City','approx_cost(for two people)':'Cost'},inplace=True)"
   ]
  },
  {
   "cell_type": "code",
   "execution_count": 6,
   "id": "be337ead",
   "metadata": {},
   "outputs": [
    {
     "name": "stdout",
     "output_type": "stream",
     "text": [
      "39218\n"
     ]
    }
   ],
   "source": [
    "#check for duplicates\n",
    "print(copy.duplicated(['name','address']).sum())\n",
    "copy.drop_duplicates(['name','address'],inplace=True,keep='first')"
   ]
  },
  {
   "cell_type": "code",
   "execution_count": 7,
   "id": "f65f7c17",
   "metadata": {},
   "outputs": [
    {
     "data": {
      "text/plain": [
       "12499"
      ]
     },
     "execution_count": 7,
     "metadata": {},
     "output_type": "execute_result"
    }
   ],
   "source": [
    "copy.shape[0]"
   ]
  },
  {
   "cell_type": "code",
   "execution_count": 8,
   "id": "8e9cf507",
   "metadata": {},
   "outputs": [],
   "source": [
    "#checking and deleting nan values\n",
    "copy.isna().sum()\n",
    "copy.dropna(inplace=True)"
   ]
  },
  {
   "cell_type": "code",
   "execution_count": 9,
   "id": "a44e4f1b",
   "metadata": {},
   "outputs": [],
   "source": [
    "#removing new restaurants and restaurants with no ratings\n",
    "copy = copy.loc[copy.rate !='NEW']\n",
    "copy= copy.loc[copy.rate !='-'].reset_index(drop=True)"
   ]
  },
  {
   "cell_type": "code",
   "execution_count": 10,
   "id": "8881f0fb",
   "metadata": {},
   "outputs": [],
   "source": [
    "for i in range(0,copy.shape[0]):\n",
    "        rating=copy['rate'][i].replace('/5','')\n",
    "        copy['rate'][i]=float(rating)"
   ]
  },
  {
   "cell_type": "code",
   "execution_count": 11,
   "id": "82337559",
   "metadata": {},
   "outputs": [
    {
     "data": {
      "text/plain": [
       "Index(['address', 'name', 'rate', 'location', 'rest_type', 'cuisines', 'Cost',\n",
       "       'reviews_list', 'Type', 'City'],\n",
       "      dtype='object')"
      ]
     },
     "execution_count": 11,
     "metadata": {},
     "output_type": "execute_result"
    }
   ],
   "source": [
    "copy.keys()"
   ]
  },
  {
   "cell_type": "code",
   "execution_count": 12,
   "id": "e3739492",
   "metadata": {},
   "outputs": [],
   "source": [
    "restaurants=list(copy['name'].unique())"
   ]
  },
  {
   "cell_type": "code",
   "execution_count": 13,
   "id": "d1cc6ba5",
   "metadata": {},
   "outputs": [
    {
     "data": {
      "text/plain": [
       "6465"
      ]
     },
     "execution_count": 13,
     "metadata": {},
     "output_type": "execute_result"
    }
   ],
   "source": [
    "len(restaurants)"
   ]
  },
  {
   "cell_type": "code",
   "execution_count": 14,
   "id": "3b6c4564",
   "metadata": {},
   "outputs": [
    {
     "data": {
      "text/plain": [
       "9244"
      ]
     },
     "execution_count": 14,
     "metadata": {},
     "output_type": "execute_result"
    }
   ],
   "source": [
    "copy.shape[0]"
   ]
  },
  {
   "cell_type": "code",
   "execution_count": 15,
   "id": "944e12d3",
   "metadata": {},
   "outputs": [],
   "source": [
    "copy['Mean Rating']=0.0"
   ]
  },
  {
   "cell_type": "code",
   "execution_count": 16,
   "id": "a8ca309e",
   "metadata": {},
   "outputs": [
    {
     "name": "stderr",
     "output_type": "stream",
     "text": [
      "<ipython-input-16-21342abeae49>:4: SettingWithCopyWarning: \n",
      "A value is trying to be set on a copy of a slice from a DataFrame\n",
      "\n",
      "See the caveats in the documentation: https://pandas.pydata.org/pandas-docs/stable/user_guide/indexing.html#returning-a-view-versus-a-copy\n",
      "  copy['Mean Rating'][copy['name']==restaurants[i]]=mean_ratings[i]\n"
     ]
    }
   ],
   "source": [
    "mean_ratings=[]\n",
    "for i in range(len(restaurants)):\n",
    "    mean_ratings.append((copy['rate'][copy['name']==restaurants[i]]).mean())\n",
    "    copy['Mean Rating'][copy['name']==restaurants[i]]=mean_ratings[i]"
   ]
  },
  {
   "cell_type": "code",
   "execution_count": 17,
   "id": "fab5c7b9",
   "metadata": {},
   "outputs": [
    {
     "data": {
      "text/plain": [
       "Index(['address', 'name', 'rate', 'location', 'rest_type', 'cuisines', 'Cost',\n",
       "       'reviews_list', 'Type', 'City', 'Mean Rating'],\n",
       "      dtype='object')"
      ]
     },
     "execution_count": 17,
     "metadata": {},
     "output_type": "execute_result"
    }
   ],
   "source": [
    "copy.keys()"
   ]
  },
  {
   "cell_type": "code",
   "execution_count": 18,
   "id": "1c0882b1",
   "metadata": {},
   "outputs": [
    {
     "data": {
      "text/plain": [
       "3955"
      ]
     },
     "execution_count": 18,
     "metadata": {},
     "output_type": "execute_result"
    }
   ],
   "source": [
    "#review list cleaning\n",
    "len(copy['reviews_list'][0])"
   ]
  },
  {
   "cell_type": "code",
   "execution_count": 19,
   "id": "a18ab6bc",
   "metadata": {},
   "outputs": [
    {
     "data": {
      "text/html": [
       "<div>\n",
       "<style scoped>\n",
       "    .dataframe tbody tr th:only-of-type {\n",
       "        vertical-align: middle;\n",
       "    }\n",
       "\n",
       "    .dataframe tbody tr th {\n",
       "        vertical-align: top;\n",
       "    }\n",
       "\n",
       "    .dataframe thead th {\n",
       "        text-align: right;\n",
       "    }\n",
       "</style>\n",
       "<table border=\"1\" class=\"dataframe\">\n",
       "  <thead>\n",
       "    <tr style=\"text-align: right;\">\n",
       "      <th></th>\n",
       "      <th>reviews_list</th>\n",
       "      <th>cuisines</th>\n",
       "    </tr>\n",
       "  </thead>\n",
       "  <tbody>\n",
       "    <tr>\n",
       "      <th>1331</th>\n",
       "      <td>rated 30 ratedn original glazed donuts reason ...</td>\n",
       "      <td>Desserts, Beverages</td>\n",
       "    </tr>\n",
       "    <tr>\n",
       "      <th>7550</th>\n",
       "      <td></td>\n",
       "      <td>Mangalorean</td>\n",
       "    </tr>\n",
       "    <tr>\n",
       "      <th>1325</th>\n",
       "      <td>rated 30 ratedn average thats ordered lucknowi...</td>\n",
       "      <td>Biryani, North Indian, Rolls</td>\n",
       "    </tr>\n",
       "    <tr>\n",
       "      <th>295</th>\n",
       "      <td>rated 40 ratedn one best dishes iãx83ãx83ãx...</td>\n",
       "      <td>Seafood, Mangalorean</td>\n",
       "    </tr>\n",
       "    <tr>\n",
       "      <th>6992</th>\n",
       "      <td>rated 50 ratedn lovely food affordable price t...</td>\n",
       "      <td>Fast Food, Burger, Pizza, Sandwich</td>\n",
       "    </tr>\n",
       "  </tbody>\n",
       "</table>\n",
       "</div>"
      ],
      "text/plain": [
       "                                           reviews_list  \\\n",
       "1331  rated 30 ratedn original glazed donuts reason ...   \n",
       "7550                                                      \n",
       "1325  rated 30 ratedn average thats ordered lucknowi...   \n",
       "295   rated 40 ratedn one best dishes iãx83ãx83ãx...   \n",
       "6992  rated 50 ratedn lovely food affordable price t...   \n",
       "\n",
       "                                cuisines  \n",
       "1331                 Desserts, Beverages  \n",
       "7550                         Mangalorean  \n",
       "1325        Biryani, North Indian, Rolls  \n",
       "295                 Seafood, Mangalorean  \n",
       "6992  Fast Food, Burger, Pizza, Sandwich  "
      ]
     },
     "execution_count": 19,
     "metadata": {},
     "output_type": "execute_result"
    }
   ],
   "source": [
    "import re\n",
    "copy[\"reviews_list\"] = copy[\"reviews_list\"].str.lower()\n",
    "\n",
    "## Removal of Puctuations\n",
    "import string\n",
    "PUNCT_TO_REMOVE = string.punctuation\n",
    "def remove_punctuation(text):\n",
    "    \"\"\"custom function to remove the punctuation\"\"\"\n",
    "    return text.translate(str.maketrans('', '', PUNCT_TO_REMOVE))\n",
    "\n",
    "copy[\"reviews_list\"] = copy[\"reviews_list\"].apply(lambda text: remove_punctuation(text))\n",
    "\n",
    "## Removal of Stopwords\n",
    "from nltk.corpus import stopwords\n",
    "STOPWORDS = set(stopwords.words('english'))\n",
    "def remove_stopwords(text):\n",
    "    \"\"\"custom function to remove the stopwords\"\"\"\n",
    "    return \" \".join([word for word in str(text).split() if word not in STOPWORDS])\n",
    "\n",
    "copy[\"reviews_list\"] = copy[\"reviews_list\"].apply(lambda text: remove_stopwords(text))\n",
    "\n",
    "## Removal of URLS\n",
    "def remove_urls(text):\n",
    "    url_pattern = re.compile(r'https?://\\S+|www\\.\\S+')\n",
    "    return url_pattern.sub(r'', text)\n",
    "\n",
    "copy[\"reviews_list\"] = copy[\"reviews_list\"].apply(lambda text: remove_urls(text))\n",
    "\n",
    "copy[['reviews_list', 'cuisines']].sample(5)"
   ]
  },
  {
   "cell_type": "code",
   "execution_count": 21,
   "id": "0337dc38",
   "metadata": {},
   "outputs": [
    {
     "data": {
      "text/plain": [
       "2779"
      ]
     },
     "execution_count": 21,
     "metadata": {},
     "output_type": "execute_result"
    }
   ],
   "source": [
    "copy.duplicated(['name']).sum()"
   ]
  },
  {
   "cell_type": "code",
   "execution_count": 22,
   "id": "dde0ac1f",
   "metadata": {},
   "outputs": [],
   "source": [
    "#restaurant branches\n",
    "res_counts=[]\n",
    "for i in restaurants:\n",
    "    counts=copy[copy['name']==i].shape[0]\n",
    "    res_counts.append(counts)"
   ]
  },
  {
   "cell_type": "code",
   "execution_count": 24,
   "id": "398bdd35",
   "metadata": {},
   "outputs": [],
   "source": [
    "#combining the reviews of same restaurants\n",
    "review_list=[]\n",
    "for i in restaurants:\n",
    "    review=\"\"\n",
    "    for j in range(0,copy.shape[0]):\n",
    "        if(i==copy['name'][j]):\n",
    "            review+=copy['reviews_list'][j]\n",
    "    review_list.append(review)        "
   ]
  },
  {
   "cell_type": "code",
   "execution_count": 25,
   "id": "dc9c6752",
   "metadata": {},
   "outputs": [
    {
     "data": {
      "text/plain": [
       "6465"
      ]
     },
     "execution_count": 25,
     "metadata": {},
     "output_type": "execute_result"
    }
   ],
   "source": [
    "len(review_list)"
   ]
  },
  {
   "cell_type": "code",
   "execution_count": 26,
   "id": "f45fbf7f",
   "metadata": {},
   "outputs": [],
   "source": [
    "all_res=copy.drop_duplicates(['name'])    "
   ]
  },
  {
   "cell_type": "code",
   "execution_count": 27,
   "id": "b4fca0cd",
   "metadata": {},
   "outputs": [
    {
     "data": {
      "text/html": [
       "<div>\n",
       "<style scoped>\n",
       "    .dataframe tbody tr th:only-of-type {\n",
       "        vertical-align: middle;\n",
       "    }\n",
       "\n",
       "    .dataframe tbody tr th {\n",
       "        vertical-align: top;\n",
       "    }\n",
       "\n",
       "    .dataframe thead th {\n",
       "        text-align: right;\n",
       "    }\n",
       "</style>\n",
       "<table border=\"1\" class=\"dataframe\">\n",
       "  <thead>\n",
       "    <tr style=\"text-align: right;\">\n",
       "      <th></th>\n",
       "      <th>address</th>\n",
       "      <th>name</th>\n",
       "      <th>rate</th>\n",
       "      <th>location</th>\n",
       "      <th>rest_type</th>\n",
       "      <th>cuisines</th>\n",
       "      <th>Cost</th>\n",
       "      <th>reviews_list</th>\n",
       "      <th>Type</th>\n",
       "      <th>City</th>\n",
       "      <th>Mean Rating</th>\n",
       "    </tr>\n",
       "  </thead>\n",
       "  <tbody>\n",
       "    <tr>\n",
       "      <th>0</th>\n",
       "      <td>942, 21st Main Road, 2nd Stage, Banashankari, ...</td>\n",
       "      <td>Jalsa</td>\n",
       "      <td>4.1</td>\n",
       "      <td>Banashankari</td>\n",
       "      <td>Casual Dining</td>\n",
       "      <td>North Indian, Mughlai, Chinese</td>\n",
       "      <td>800</td>\n",
       "      <td>rated 40 ratedn beautiful place dine inthe int...</td>\n",
       "      <td>Buffet</td>\n",
       "      <td>Banashankari</td>\n",
       "      <td>4.15</td>\n",
       "    </tr>\n",
       "    <tr>\n",
       "      <th>1</th>\n",
       "      <td>2nd Floor, 80 Feet Road, Near Big Bazaar, 6th ...</td>\n",
       "      <td>Spice Elephant</td>\n",
       "      <td>4.1</td>\n",
       "      <td>Banashankari</td>\n",
       "      <td>Casual Dining</td>\n",
       "      <td>Chinese, North Indian, Thai</td>\n",
       "      <td>800</td>\n",
       "      <td>rated 40 ratedn dinner family turned good choo...</td>\n",
       "      <td>Buffet</td>\n",
       "      <td>Banashankari</td>\n",
       "      <td>4.10</td>\n",
       "    </tr>\n",
       "    <tr>\n",
       "      <th>2</th>\n",
       "      <td>1112, Next to KIMS Medical College, 17th Cross...</td>\n",
       "      <td>San Churro Cafe</td>\n",
       "      <td>3.8</td>\n",
       "      <td>Banashankari</td>\n",
       "      <td>Cafe, Casual Dining</td>\n",
       "      <td>Cafe, Mexican, Italian</td>\n",
       "      <td>800</td>\n",
       "      <td>rated 30 ratedn ambience good enough pocket fr...</td>\n",
       "      <td>Buffet</td>\n",
       "      <td>Banashankari</td>\n",
       "      <td>3.80</td>\n",
       "    </tr>\n",
       "    <tr>\n",
       "      <th>3</th>\n",
       "      <td>1st Floor, Annakuteera, 3rd Stage, Banashankar...</td>\n",
       "      <td>Addhuri Udupi Bhojana</td>\n",
       "      <td>3.7</td>\n",
       "      <td>Banashankari</td>\n",
       "      <td>Quick Bites</td>\n",
       "      <td>South Indian, North Indian</td>\n",
       "      <td>300</td>\n",
       "      <td>rated 40 ratedn great food proper karnataka st...</td>\n",
       "      <td>Buffet</td>\n",
       "      <td>Banashankari</td>\n",
       "      <td>3.70</td>\n",
       "    </tr>\n",
       "    <tr>\n",
       "      <th>4</th>\n",
       "      <td>10, 3rd Floor, Lakshmi Associates, Gandhi Baza...</td>\n",
       "      <td>Grand Village</td>\n",
       "      <td>3.8</td>\n",
       "      <td>Basavanagudi</td>\n",
       "      <td>Casual Dining</td>\n",
       "      <td>North Indian, Rajasthani</td>\n",
       "      <td>600</td>\n",
       "      <td>rated 40 ratedn good restaurant neighbourhood ...</td>\n",
       "      <td>Buffet</td>\n",
       "      <td>Banashankari</td>\n",
       "      <td>3.80</td>\n",
       "    </tr>\n",
       "  </tbody>\n",
       "</table>\n",
       "</div>"
      ],
      "text/plain": [
       "                                             address                   name  \\\n",
       "0  942, 21st Main Road, 2nd Stage, Banashankari, ...                  Jalsa   \n",
       "1  2nd Floor, 80 Feet Road, Near Big Bazaar, 6th ...         Spice Elephant   \n",
       "2  1112, Next to KIMS Medical College, 17th Cross...        San Churro Cafe   \n",
       "3  1st Floor, Annakuteera, 3rd Stage, Banashankar...  Addhuri Udupi Bhojana   \n",
       "4  10, 3rd Floor, Lakshmi Associates, Gandhi Baza...          Grand Village   \n",
       "\n",
       "  rate      location            rest_type                        cuisines  \\\n",
       "0  4.1  Banashankari        Casual Dining  North Indian, Mughlai, Chinese   \n",
       "1  4.1  Banashankari        Casual Dining     Chinese, North Indian, Thai   \n",
       "2  3.8  Banashankari  Cafe, Casual Dining          Cafe, Mexican, Italian   \n",
       "3  3.7  Banashankari          Quick Bites      South Indian, North Indian   \n",
       "4  3.8  Basavanagudi        Casual Dining        North Indian, Rajasthani   \n",
       "\n",
       "  Cost                                       reviews_list    Type  \\\n",
       "0  800  rated 40 ratedn beautiful place dine inthe int...  Buffet   \n",
       "1  800  rated 40 ratedn dinner family turned good choo...  Buffet   \n",
       "2  800  rated 30 ratedn ambience good enough pocket fr...  Buffet   \n",
       "3  300  rated 40 ratedn great food proper karnataka st...  Buffet   \n",
       "4  600  rated 40 ratedn good restaurant neighbourhood ...  Buffet   \n",
       "\n",
       "           City  Mean Rating  \n",
       "0  Banashankari         4.15  \n",
       "1  Banashankari         4.10  \n",
       "2  Banashankari         3.80  \n",
       "3  Banashankari         3.70  \n",
       "4  Banashankari         3.80  "
      ]
     },
     "execution_count": 27,
     "metadata": {},
     "output_type": "execute_result"
    }
   ],
   "source": [
    "all_res.head()"
   ]
  },
  {
   "cell_type": "code",
   "execution_count": 28,
   "id": "3a2b7a7b",
   "metadata": {},
   "outputs": [
    {
     "name": "stderr",
     "output_type": "stream",
     "text": [
      "<ipython-input-28-b28e10ab05c9>:2: SettingWithCopyWarning: \n",
      "A value is trying to be set on a copy of a slice from a DataFrame\n",
      "\n",
      "See the caveats in the documentation: https://pandas.pydata.org/pandas-docs/stable/user_guide/indexing.html#returning-a-view-versus-a-copy\n",
      "  all_res['reviews_list'][all_res['name']==restaurants[i]]=review_list[i]\n",
      "c:\\users\\jaswanth reddy\\appdata\\local\\programs\\python\\python39\\lib\\site-packages\\pandas\\core\\series.py:992: SettingWithCopyWarning: \n",
      "A value is trying to be set on a copy of a slice from a DataFrame\n",
      "\n",
      "See the caveats in the documentation: https://pandas.pydata.org/pandas-docs/stable/user_guide/indexing.html#returning-a-view-versus-a-copy\n",
      "  self._where(~key, value, inplace=True)\n"
     ]
    }
   ],
   "source": [
    "for i in range(len(restaurants)):\n",
    "    all_res['reviews_list'][all_res['name']==restaurants[i]]=review_list[i]"
   ]
  },
  {
   "cell_type": "code",
   "execution_count": 29,
   "id": "b6638497",
   "metadata": {},
   "outputs": [],
   "source": [
    "all_res.reset_index(inplace=True)"
   ]
  },
  {
   "cell_type": "code",
   "execution_count": 30,
   "id": "997e715f",
   "metadata": {},
   "outputs": [],
   "source": [
    "cuisines=[]\n",
    "for i in range(0,all_res.shape[0]):\n",
    "    temp=all_res['cuisines'][i].split(',')\n",
    "    cuisines.append(\" \".join(temp))  "
   ]
  },
  {
   "cell_type": "code",
   "execution_count": 31,
   "id": "a8a20683",
   "metadata": {},
   "outputs": [
    {
     "data": {
      "text/plain": [
       "6465"
      ]
     },
     "execution_count": 31,
     "metadata": {},
     "output_type": "execute_result"
    }
   ],
   "source": [
    "#delete\n",
    "len(cuisines)"
   ]
  },
  {
   "cell_type": "code",
   "execution_count": 33,
   "id": "3063b190",
   "metadata": {},
   "outputs": [
    {
     "name": "stderr",
     "output_type": "stream",
     "text": [
      "<ipython-input-33-16ef06fd939d>:1: SettingWithCopyWarning: \n",
      "A value is trying to be set on a copy of a slice from a DataFrame.\n",
      "Try using .loc[row_indexer,col_indexer] = value instead\n",
      "\n",
      "See the caveats in the documentation: https://pandas.pydata.org/pandas-docs/stable/user_guide/indexing.html#returning-a-view-versus-a-copy\n",
      "  all_res['recomedation']=cuisines+all_res['reviews_list']\n"
     ]
    }
   ],
   "source": [
    "all_res['recomedation']=cuisines+all_res['reviews_list']"
   ]
  },
  {
   "cell_type": "code",
   "execution_count": 35,
   "id": "f454aaad",
   "metadata": {},
   "outputs": [],
   "source": [
    "max_features=20000\n",
    "from sklearn.feature_extraction.text import TfidfVectorizer\n",
    "vectorizer=TfidfVectorizer(max_features=max_features)\n",
    "X=vectorizer.fit_transform(all_res['recomedation'])"
   ]
  },
  {
   "cell_type": "code",
   "execution_count": 36,
   "id": "2996e5f2",
   "metadata": {},
   "outputs": [
    {
     "name": "stdout",
     "output_type": "stream",
     "text": [
      "[[1.         0.39293191 0.24468036 ... 0.43124954 0.11478789 0.18318179]\n",
      " [0.39293191 1.         0.22553508 ... 0.05099347 0.12569921 0.25117473]\n",
      " [0.24468036 0.22553508 1.         ... 0.14082663 0.07156918 0.10956207]\n",
      " ...\n",
      " [0.43124954 0.05099347 0.14082663 ... 1.         0.01440724 0.05201098]\n",
      " [0.11478789 0.12569921 0.07156918 ... 0.01440724 1.         0.11314133]\n",
      " [0.18318179 0.25117473 0.10956207 ... 0.05201098 0.11314133 1.        ]]\n"
     ]
    }
   ],
   "source": [
    "from scipy import sparse\n",
    "x_sparse=sparse.csr_matrix(X)\n",
    "from sklearn.metrics.pairwise import cosine_similarity\n",
    "similarity=cosine_similarity(x_sparse)\n",
    "print(similarity)"
   ]
  },
  {
   "cell_type": "code",
   "execution_count": 37,
   "id": "b7a08767",
   "metadata": {},
   "outputs": [
    {
     "data": {
      "text/plain": [
       "(6465, 6465)"
      ]
     },
     "execution_count": 37,
     "metadata": {},
     "output_type": "execute_result"
    }
   ],
   "source": [
    "similarity.shape"
   ]
  },
  {
   "cell_type": "code",
   "execution_count": 40,
   "id": "0d9a66b8",
   "metadata": {},
   "outputs": [],
   "source": [
    "all_res.set_index('name',inplace=True)"
   ]
  },
  {
   "cell_type": "code",
   "execution_count": 43,
   "id": "ee1337cb",
   "metadata": {},
   "outputs": [],
   "source": [
    "indices = pd.Series(all_res.index)"
   ]
  },
  {
   "cell_type": "code",
   "execution_count": 47,
   "id": "c249ccb8",
   "metadata": {},
   "outputs": [
    {
     "name": "stdout",
     "output_type": "stream",
     "text": [
      "TOP 10 RESTAURANTS LIKE Pai Vihar WITH SIMILAR REVIEWS: \n"
     ]
    },
    {
     "data": {
      "text/html": [
       "<div>\n",
       "<style scoped>\n",
       "    .dataframe tbody tr th:only-of-type {\n",
       "        vertical-align: middle;\n",
       "    }\n",
       "\n",
       "    .dataframe tbody tr th {\n",
       "        vertical-align: top;\n",
       "    }\n",
       "\n",
       "    .dataframe thead th {\n",
       "        text-align: right;\n",
       "    }\n",
       "</style>\n",
       "<table border=\"1\" class=\"dataframe\">\n",
       "  <thead>\n",
       "    <tr style=\"text-align: right;\">\n",
       "      <th></th>\n",
       "      <th>cuisines</th>\n",
       "      <th>Mean Rating</th>\n",
       "      <th>Cost</th>\n",
       "    </tr>\n",
       "  </thead>\n",
       "  <tbody>\n",
       "    <tr>\n",
       "      <th>Mudde Madappa Mess</th>\n",
       "      <td>South Indian</td>\n",
       "      <td>4.100000</td>\n",
       "      <td>150</td>\n",
       "    </tr>\n",
       "    <tr>\n",
       "      <th>Chaitanya Cafe</th>\n",
       "      <td>South Indian, North Indian, Fast Food</td>\n",
       "      <td>3.900000</td>\n",
       "      <td>300</td>\n",
       "    </tr>\n",
       "    <tr>\n",
       "      <th>Samosa Singh</th>\n",
       "      <td>Street Food, Fast Food, Rolls, Desserts</td>\n",
       "      <td>3.816667</td>\n",
       "      <td>200</td>\n",
       "    </tr>\n",
       "    <tr>\n",
       "      <th>Matru Sagar</th>\n",
       "      <td>South Indian, North Indian</td>\n",
       "      <td>3.800000</td>\n",
       "      <td>300</td>\n",
       "    </tr>\n",
       "    <tr>\n",
       "      <th>Upahar Sagar</th>\n",
       "      <td>South Indian, Chinese, North Indian</td>\n",
       "      <td>3.800000</td>\n",
       "      <td>350</td>\n",
       "    </tr>\n",
       "    <tr>\n",
       "      <th>Filmy Kitchen</th>\n",
       "      <td>North Indian, South Indian, Italian, Chinese, ...</td>\n",
       "      <td>3.700000</td>\n",
       "      <td>400</td>\n",
       "    </tr>\n",
       "    <tr>\n",
       "      <th>Mayura Sagar</th>\n",
       "      <td>Chinese, North Indian, South Indian</td>\n",
       "      <td>3.600000</td>\n",
       "      <td>250</td>\n",
       "    </tr>\n",
       "    <tr>\n",
       "      <th>Parama Ruchi</th>\n",
       "      <td>South Indian, North Indian, Chinese, Street Food</td>\n",
       "      <td>3.500000</td>\n",
       "      <td>300</td>\n",
       "    </tr>\n",
       "    <tr>\n",
       "      <th>Udupi Food Junction</th>\n",
       "      <td>South Indian, North Indian</td>\n",
       "      <td>3.500000</td>\n",
       "      <td>250</td>\n",
       "    </tr>\n",
       "    <tr>\n",
       "      <th>Navya Andhra Style Restaurant</th>\n",
       "      <td>North Indian, South Indian</td>\n",
       "      <td>3.500000</td>\n",
       "      <td>200</td>\n",
       "    </tr>\n",
       "  </tbody>\n",
       "</table>\n",
       "</div>"
      ],
      "text/plain": [
       "                                                                        cuisines  \\\n",
       "Mudde Madappa Mess                                                  South Indian   \n",
       "Chaitanya Cafe                             South Indian, North Indian, Fast Food   \n",
       "Samosa Singh                             Street Food, Fast Food, Rolls, Desserts   \n",
       "Matru Sagar                                           South Indian, North Indian   \n",
       "Upahar Sagar                                 South Indian, Chinese, North Indian   \n",
       "Filmy Kitchen                  North Indian, South Indian, Italian, Chinese, ...   \n",
       "Mayura Sagar                                 Chinese, North Indian, South Indian   \n",
       "Parama Ruchi                    South Indian, North Indian, Chinese, Street Food   \n",
       "Udupi Food Junction                                   South Indian, North Indian   \n",
       "Navya Andhra Style Restaurant                         North Indian, South Indian   \n",
       "\n",
       "                               Mean Rating Cost  \n",
       "Mudde Madappa Mess                4.100000  150  \n",
       "Chaitanya Cafe                    3.900000  300  \n",
       "Samosa Singh                      3.816667  200  \n",
       "Matru Sagar                       3.800000  300  \n",
       "Upahar Sagar                      3.800000  350  \n",
       "Filmy Kitchen                     3.700000  400  \n",
       "Mayura Sagar                      3.600000  250  \n",
       "Parama Ruchi                      3.500000  300  \n",
       "Udupi Food Junction               3.500000  250  \n",
       "Navya Andhra Style Restaurant     3.500000  200  "
      ]
     },
     "execution_count": 47,
     "metadata": {},
     "output_type": "execute_result"
    }
   ],
   "source": [
    "def recommend(name, cosine_similarities = similarity):\n",
    "    \n",
    "    # Create a list to put top restaurants\n",
    "    recommend_restaurant = []\n",
    "    \n",
    "    # Find the index of the hotel entered\n",
    "    idx = indices[indices == name].index[0]\n",
    "    \n",
    "    # Find the restaurants with a similar cosine-sim value and order them from bigges number\n",
    "    score_series = pd.Series(cosine_similarities[idx]).sort_values(ascending=False)\n",
    "    \n",
    "    # Extract top 30 restaurant indexes with a similar cosine-sim value\n",
    "    top30_indexes = list(score_series.iloc[0:31].index)\n",
    "    \n",
    "    # Names of the top 30 restaurants\n",
    "    for each in top30_indexes:\n",
    "        recommend_restaurant.append(list(all_res.index)[each])\n",
    "    \n",
    "    # Creating the new data set to show similar restaurants\n",
    "    df_new = pd.DataFrame(columns=['cuisines', 'Mean Rating', 'Cost'])\n",
    "    \n",
    "    # Create the top 30 similar restaurants with some of their columns\n",
    "    for each in recommend_restaurant:\n",
    "        df_new = df_new.append(pd.DataFrame(all_res[['cuisines','Mean Rating', 'Cost']][all_res.index == each].sample()))\n",
    "    \n",
    "    # Drop the same named restaurants and sort only the top 10 by the highest rating\n",
    "    df_new = df_new.drop_duplicates(subset=['cuisines','Mean Rating', 'Cost'], keep=False)\n",
    "    df_new = df_new.sort_values(by='Mean Rating', ascending=False).head(10)\n",
    "    \n",
    "    print('TOP %s RESTAURANTS LIKE %s WITH SIMILAR REVIEWS: ' % (str(len(df_new)), name))\n",
    "    \n",
    "    return df_new\n",
    "recommend('Pai Vihar')"
   ]
  },
  {
   "cell_type": "code",
   "execution_count": null,
   "id": "b5d9fdec",
   "metadata": {},
   "outputs": [],
   "source": []
  }
 ],
 "metadata": {
  "kernelspec": {
   "display_name": "Python 3",
   "language": "python",
   "name": "python3"
  },
  "language_info": {
   "codemirror_mode": {
    "name": "ipython",
    "version": 3
   },
   "file_extension": ".py",
   "mimetype": "text/x-python",
   "name": "python",
   "nbconvert_exporter": "python",
   "pygments_lexer": "ipython3",
   "version": "3.9.5"
  }
 },
 "nbformat": 4,
 "nbformat_minor": 5
}
